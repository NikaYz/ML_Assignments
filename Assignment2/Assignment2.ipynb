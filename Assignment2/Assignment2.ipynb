{
  "cells": [
    {
      "cell_type": "code",
      "execution_count": 1,
      "metadata": {
        "id": "SdgkQhB3Qjhs"
      },
      "outputs": [],
      "source": [
        "import numpy as np\n",
        "import pandas as pd\n",
        "import xgboost as xgb\n",
        "import matplotlib.pyplot as plt\n",
        "import seaborn as sns\n",
        "from sklearn.model_selection import GridSearchCV, train_test_split\n",
        "from xgboost import XGBRegressor\n",
        "from sklearn.metrics import mean_squared_error\n",
        "from sklearn.impute import SimpleImputer\n",
        "from sklearn.preprocessing import StandardScaler, LabelEncoder\n",
        "from sklearn.metrics import accuracy_score, classification_report\n",
        "%matplotlib inline"
      ]
    },
    {
      "cell_type": "code",
      "execution_count": 2,
      "metadata": {
        "id": "eJICoqACVn0o"
      },
      "outputs": [],
      "source": [
        "#importing test data and test data, random seed = 0 , so that output always remain same\n",
        "train_df = pd.read_csv('train.csv')\n",
        "test_df = pd.read_csv('test.csv')\n",
        "np.random.seed=0\n"
      ]
    },
    {
      "cell_type": "code",
      "execution_count": null,
      "metadata": {
        "colab": {
          "base_uri": "https://localhost:8080/"
        },
        "id": "1MeU9I3qcDq4",
        "outputId": "768febc6-9e64-40e9-b8b3-8a8ca83c6cd8"
      },
      "outputs": [],
      "source": [
        "train_df.info()"
      ]
    },
    {
      "cell_type": "code",
      "execution_count": null,
      "metadata": {
        "colab": {
          "base_uri": "https://localhost:8080/",
          "height": 300
        },
        "id": "Hqd-_JXFDB8Z",
        "outputId": "b97de7c6-15a9-4113-c03c-b53bce1a5c16"
      },
      "outputs": [],
      "source": [
        "train_df.describe()"
      ]
    },
    {
      "cell_type": "code",
      "execution_count": null,
      "metadata": {
        "colab": {
          "base_uri": "https://localhost:8080/",
          "height": 300
        },
        "id": "OVk1FnEihatt",
        "outputId": "bdfa47c9-230d-4411-aed9-e9dc562ad4fd"
      },
      "outputs": [],
      "source": [
        "test_df.describe()"
      ]
    },
    {
      "cell_type": "code",
      "execution_count": 6,
      "metadata": {
        "id": "KEqxFL4Ydg9N"
      },
      "outputs": [],
      "source": [
        "# didn't use outlier, as prediction was overfitting\n",
        "# outlier function : find outleir based on more than 2 features have outlier simultaneously ,of the data\n",
        "from collections import Counter\n",
        "def detect_outliers(df,columns):\n",
        "    outliers = []\n",
        "    for c in columns:\n",
        "\n",
        "        #first and third quartile\n",
        "        Q1 = np.percentile(df[c],25)\n",
        "        Q3 = np.percentile(df[c],75)\n",
        "        #IQR\n",
        "        IQR = Q3-Q1\n",
        "        #detect outlier\n",
        "        detect = IQR * 1.5\n",
        "        filter1 = df[c]<Q1-detect\n",
        "        filter2 = df[c]>Q3+detect\n",
        "        outliers.extend( df[filter1 | filter2].index)\n",
        "    outliers = Counter(outliers)\n",
        "    multipleoutliers = list(i for i , v in outliers.items() if v>2)\n",
        "    return multipleoutliers"
      ]
    },
    {
      "cell_type": "code",
      "execution_count": null,
      "metadata": {
        "colab": {
          "base_uri": "https://localhost:8080/",
          "height": 834
        },
        "id": "O3BGVINJVnKM",
        "outputId": "da99e3ba-b1a3-4dd2-8425-be4950f12341"
      },
      "outputs": [],
      "source": [
        "# to check for overfitting for certain features\n",
        "train_df.loc[detect_outliers(train_df,[\"Age\",\"SibSp\",\"Parch\",\"Fare\"]),:]"
      ]
    },
    {
      "cell_type": "code",
      "execution_count": null,
      "metadata": {
        "id": "egVWVrWoVrJ5"
      },
      "outputs": [],
      "source": [
        "# to remove outliers\n",
        "train_df = train_df.drop(detect_outliers(train_df,[\"Age\",\"SibSp\",\"Parch\",\"Fare\"]),axis =0).reset_index(drop = True)"
      ]
    },
    {
      "cell_type": "code",
      "execution_count": null,
      "metadata": {
        "colab": {
          "base_uri": "https://localhost:8080/",
          "height": 985
        },
        "id": "DL15ymgXd_qj",
        "outputId": "706c133d-16d0-4fbc-b1ef-09bb578ff413"
      },
      "outputs": [],
      "source": [
        "plt.scatter(x = train_df.Age, y = train_df.SibSp, s=5, alpha = 0.2)\n",
        "plt.xlabel(\"Age\")\n",
        "plt.ylabel(\"Count of siblings and spouses\")\n",
        "plt.show()\n",
        "plt.clf()\n",
        "plt.scatter(x = train_df.Age, y = train_df.Pclass, s=5, alpha = 0.2)\n",
        "plt.xlabel(\"Age\")\n",
        "plt.ylabel(\"Passenger Class\")\n",
        "plt.show()\n",
        "plt.clf"
      ]
    },
    {
      "cell_type": "code",
      "execution_count": null,
      "metadata": {
        "colab": {
          "base_uri": "https://localhost:8080/",
          "height": 460
        },
        "id": "QKWfBEsiVvMh",
        "outputId": "c4e9f516-6d94-4a6a-eff0-2a26563d9280"
      },
      "outputs": [],
      "source": [
        "# to observe null percentage of features for the data\n",
        "null_value_percentages=(train_df.isna().sum()/train_df.shape[0])*100\n",
        "null_value_percentages"
      ]
    },
    {
      "cell_type": "code",
      "execution_count": 10,
      "metadata": {
        "id": "rURxrXpgWyrC"
      },
      "outputs": [],
      "source": [
        "# to remove column 'Cabin' as it has maximum null prercentage\n",
        "features_to_drop = null_value_percentages[null_value_percentages > 74].index\n",
        "df = train_df.drop(columns=features_to_drop)"
      ]
    },
    {
      "cell_type": "code",
      "execution_count": null,
      "metadata": {
        "colab": {
          "base_uri": "https://localhost:8080/",
          "height": 429
        },
        "id": "S7rMIP7TW95C",
        "outputId": "56d2612a-8feb-4690-c9af-301a20a52916"
      },
      "outputs": [],
      "source": [
        "# observe null percentage after removal\n",
        "null_value_percentages=(df.isna().sum()/train_df.shape[0])*100\n",
        "null_value_percentages"
      ]
    },
    {
      "cell_type": "code",
      "execution_count": null,
      "metadata": {
        "colab": {
          "base_uri": "https://localhost:8080/",
          "height": 320
        },
        "id": "c9Wb9E_7XQTL",
        "outputId": "249e4ef3-fcc4-42fd-ca6e-51f1e11e2b97"
      },
      "outputs": [],
      "source": [
        "df.describe()"
      ]
    },
    {
      "cell_type": "code",
      "execution_count": 12,
      "metadata": {
        "id": "U7WSxaajYoQX"
      },
      "outputs": [],
      "source": [
        "# to remove non numerical and non related features for Survived column\n",
        "df.drop(columns=['Name','Ticket'], inplace=True)\n",
        "test_df.drop(columns=['Name','Ticket','Cabin'], inplace=True)"
      ]
    },
    {
      "cell_type": "code",
      "execution_count": null,
      "metadata": {
        "colab": {
          "base_uri": "https://localhost:8080/",
          "height": 300
        },
        "id": "Dxw7O3DWYwg9",
        "outputId": "670de053-b4e7-40e9-f634-d00db60e26ec"
      },
      "outputs": [],
      "source": [
        "df.describe()"
      ]
    },
    {
      "cell_type": "code",
      "execution_count": 14,
      "metadata": {
        "colab": {
          "base_uri": "https://localhost:8080/"
        },
        "id": "ANNbOvxUY513",
        "outputId": "01aed39b-2022-4f43-90a4-1d59ebecd3a0"
      },
      "outputs": [
        {
          "data": {
            "text/plain": [
              "0"
            ]
          },
          "execution_count": 14,
          "metadata": {},
          "output_type": "execute_result"
        }
      ],
      "source": [
        "# to observe does Embarked column  has any null value\n",
        "print(df['Embarked'].isna().sum())\n",
        "print(test_df['Embarked'].isna().sum())"
      ]
    },
    {
      "cell_type": "code",
      "execution_count": null,
      "metadata": {
        "colab": {
          "base_uri": "https://localhost:8080/",
          "height": 210
        },
        "id": "yN3YKOtfZAFV",
        "outputId": "de0d8459-33fb-457a-dc90-8f07e51318cd"
      },
      "outputs": [],
      "source": [
        "# since 'Embarked' has only 2 null values therefore replacing it with variable occuring which is 'S\n",
        "df['Embarked'].value_counts()\n",
        "test_df['Embarked'].value_counts()"
      ]
    },
    {
      "cell_type": "code",
      "execution_count": null,
      "metadata": {
        "colab": {
          "base_uri": "https://localhost:8080/"
        },
        "id": "3hnWVAbdbckx",
        "outputId": "43db15f8-5d42-4327-c2ef-889d805bf128"
      },
      "outputs": [],
      "source": [
        "df['Embarked'].fillna('S', inplace=True)"
      ]
    },
    {
      "cell_type": "code",
      "execution_count": null,
      "metadata": {
        "colab": {
          "base_uri": "https://localhost:8080/",
          "height": 363
        },
        "id": "HQb18__YCpm3",
        "outputId": "1afb9cf0-71a5-495a-c515-54b20685461c"
      },
      "outputs": [],
      "source": [
        "test_df.head(10)"
      ]
    },
    {
      "cell_type": "code",
      "execution_count": null,
      "metadata": {
        "colab": {
          "base_uri": "https://localhost:8080/",
          "height": 320
        },
        "id": "j3IUF32dbfPC",
        "outputId": "fd4ae6ca-a47c-4f96-a36b-2bba3d4376f2"
      },
      "outputs": [],
      "source": [
        "df.describe()"
      ]
    },
    {
      "cell_type": "code",
      "execution_count": 17,
      "metadata": {
        "id": "v9MvVSDtbx-R"
      },
      "outputs": [],
      "source": [
        "# used to transform feature data into integer using LabelEncoder\n",
        "\n",
        "from sklearn.preprocessing import LabelEncoder"
      ]
    },
    {
      "cell_type": "code",
      "execution_count": null,
      "metadata": {
        "colab": {
          "base_uri": "https://localhost:8080/"
        },
        "id": "Wk4n6l1ab22x",
        "outputId": "c311897f-fae2-44e3-aa0e-e66461ae9716"
      },
      "outputs": [],
      "source": [
        "le = LabelEncoder()\n",
        "df['Sex'] = le.fit_transform(df['Sex'])\n",
        "unique_op_sex = df['Sex'].unique()\n",
        "print(\"Label Encoder Parameters Sex\", le.inverse_transform(unique_op_sex))"
      ]
    },
    {
      "cell_type": "code",
      "execution_count": null,
      "metadata": {
        "colab": {
          "base_uri": "https://localhost:8080/"
        },
        "id": "peZfnVd8CTMX",
        "outputId": "fb4b2af0-c6e8-4e6a-ddc4-f2cad41a3fb4"
      },
      "outputs": [],
      "source": [
        "le = LabelEncoder()\n",
        "test_df['Sex'] = le.fit_transform(test_df['Sex'])\n",
        "unique_op_sex = test_df['Sex'].unique()\n",
        "print(\"Label Encoder Parameters Sex\", le.inverse_transform(unique_op_sex))"
      ]
    },
    {
      "cell_type": "code",
      "execution_count": null,
      "metadata": {
        "colab": {
          "base_uri": "https://localhost:8080/"
        },
        "id": "DIYn552TcVDk",
        "outputId": "4143789e-b2e0-40cd-c468-4556e67d2bb0"
      },
      "outputs": [],
      "source": [
        "df['Embarked'] = le.fit_transform(df['Embarked'])\n",
        "unique_op_embarked = df['Embarked'].unique()\n",
        "print(\"Label Encoder Parameters Sex\", le.inverse_transform(unique_op_embarked))"
      ]
    },
    {
      "cell_type": "code",
      "execution_count": null,
      "metadata": {
        "colab": {
          "base_uri": "https://localhost:8080/"
        },
        "id": "r5LnVfEECdVW",
        "outputId": "da1c86c7-feb7-41f2-f03e-94fda53bffb8"
      },
      "outputs": [],
      "source": [
        "test_df['Embarked'] = le.fit_transform(test_df['Embarked'])\n",
        "unique_op_embarked = test_df['Embarked'].unique()\n",
        "print(\"Label Encoder Parameters Sex\", le.inverse_transform(unique_op_embarked))"
      ]
    },
    {
      "cell_type": "code",
      "execution_count": null,
      "metadata": {
        "colab": {
          "base_uri": "https://localhost:8080/",
          "height": 383
        },
        "id": "o3mYxWVRck8P",
        "outputId": "f47f3897-d99c-4d10-f2db-1325c05335a3"
      },
      "outputs": [],
      "source": [
        "df.head(10)"
      ]
    },
    {
      "cell_type": "code",
      "execution_count": null,
      "metadata": {
        "colab": {
          "base_uri": "https://localhost:8080/",
          "height": 663
        },
        "id": "ydF4FLj2gfZB",
        "outputId": "4362521c-0660-4e58-be9d-f9eaa4165328"
      },
      "outputs": [],
      "source": [
        "sns.clustermap(df.corr(), cmap=\"rocket_r\")"
      ]
    },
    {
      "cell_type": "code",
      "execution_count": null,
      "metadata": {
        "colab": {
          "base_uri": "https://localhost:8080/",
          "height": 539
        },
        "id": "dqc_ERbeK4yQ",
        "outputId": "22954e02-8a3e-4a53-9675-5ea6bed09fbe"
      },
      "outputs": [],
      "source": [
        "# to observe any abormality , therefore observing it through graphs\n",
        "import matplotlib.pyplot as plt\n",
        "\n",
        "# Assuming 'df' is your DataFrame and 'feature' is the column name\n",
        "plt.figure(figsize=(8, 6))  # Optional, to set the figure size\n",
        "plt.boxplot(df['Age'], vert=False)  # vert=False for a horizontal plot\n",
        "plt.title('Box plot of feature')\n",
        "plt.xlabel('Feature')\n",
        "plt.show()\n"
      ]
    },
    {
      "cell_type": "code",
      "execution_count": null,
      "metadata": {
        "colab": {
          "base_uri": "https://localhost:8080/",
          "height": 539
        },
        "id": "uL32pJFAK_UL",
        "outputId": "ccc04b96-3205-425c-9a35-0aa876994c2e"
      },
      "outputs": [],
      "source": [
        "import matplotlib.pyplot as plt\n",
        "\n",
        "# Assuming 'df' is your DataFrame and 'feature' is the column name\n",
        "plt.figure(figsize=(8, 6))  # Optional, to set the figure size\n",
        "plt.boxplot(df['Embarked'], vert=False)  # vert=False for a horizontal plot\n",
        "plt.title('Box plot of feature')\n",
        "plt.xlabel('Feature')\n",
        "plt.show()"
      ]
    },
    {
      "cell_type": "code",
      "execution_count": null,
      "metadata": {
        "colab": {
          "base_uri": "https://localhost:8080/",
          "height": 539
        },
        "id": "AKEPpssyLEnP",
        "outputId": "9f043247-5a72-48d2-91d4-d5c50dbb052d"
      },
      "outputs": [],
      "source": [
        "import matplotlib.pyplot as plt\n",
        "\n",
        "# Assuming 'df' is your DataFrame and 'feature' is the column name\n",
        "plt.figure(figsize=(8, 6))  # Optional, to set the figure size\n",
        "plt.boxplot(df['Parch'], vert=False)  # vert=False for a horizontal plot\n",
        "plt.title('Box plot of feature')\n",
        "plt.xlabel('Feature')\n",
        "plt.show()"
      ]
    },
    {
      "cell_type": "code",
      "execution_count": null,
      "metadata": {
        "colab": {
          "base_uri": "https://localhost:8080/",
          "height": 539
        },
        "id": "ZzuEiz7ULKrQ",
        "outputId": "50295924-e9fb-45a8-f311-b0012b7a9234"
      },
      "outputs": [],
      "source": [
        "import matplotlib.pyplot as plt\n",
        "\n",
        "# Assuming 'df' is your DataFrame and 'feature' is the column name\n",
        "plt.figure(figsize=(8, 6))  # Optional, to set the figure size\n",
        "plt.boxplot(df['Fare'], vert=False)  # vert=False for a horizontal plot\n",
        "plt.title('Box plot of feature')\n",
        "plt.xlabel('Feature')\n",
        "plt.show()"
      ]
    },
    {
      "cell_type": "code",
      "execution_count": null,
      "metadata": {
        "colab": {
          "base_uri": "https://localhost:8080/",
          "height": 363
        },
        "id": "a-WGxuvCDF0C",
        "outputId": "9b0476db-f5bf-4c47-c537-24b4fcfd57ba"
      },
      "outputs": [],
      "source": [
        "test_df.head(10)"
      ]
    },
    {
      "cell_type": "code",
      "execution_count": 22,
      "metadata": {
        "id": "X2B-iFbocp_Z"
      },
      "outputs": [],
      "source": [
        "# Using KNNImputer to assign values to NULL values of \"Age\" column using other features\n",
        "from sklearn.impute import KNNImputer"
      ]
    },
    {
      "cell_type": "code",
      "execution_count": null,
      "metadata": {
        "colab": {
          "base_uri": "https://localhost:8080/",
          "height": 633
        },
        "id": "8RFeEjUlczt4",
        "outputId": "ad783e59-156a-475c-b83a-267ccc702220"
      },
      "outputs": [],
      "source": [
        "# to observe any correlation for age feature with other features\n",
        "sns.histplot(x = df.Age, bins = 80)\n",
        "plt.title(\"Age Histogram Before Filling Missing\")\n",
        "plt.show()\n",
        "plt.clf()\n",
        "\n",
        "# Find what other features might provide useful ways to estimate age\n",
        "all_correlations = pd.DataFrame(df.corr(numeric_only = True))\n",
        "print(all_correlations['Age'])"
      ]
    },
    {
      "cell_type": "code",
      "execution_count": null,
      "metadata": {
        "colab": {
          "base_uri": "https://localhost:8080/"
        },
        "id": "I5Knxi5A2xtO",
        "outputId": "abcda335-3bea-4bf8-90de-32c4c97fa418"
      },
      "outputs": [],
      "source": [
        "df.info()\n"
      ]
    },
    {
      "cell_type": "code",
      "execution_count": 23,
      "metadata": {
        "id": "YE3eBdT3c6jC"
      },
      "outputs": [],
      "source": [
        "imputer = KNNImputer(n_neighbors=5)\n",
        "df.loc[:, 'Pclass':] = imputer.fit_transform(df.loc[:, 'Pclass':])"
      ]
    },
    {
      "cell_type": "code",
      "execution_count": 24,
      "metadata": {
        "id": "6lOtPc5ZCpxs"
      },
      "outputs": [],
      "source": [
        "imputer = KNNImputer(n_neighbors=5)\n",
        "test_df.loc[:, 'Pclass':] = imputer.fit_transform(test_df.loc[:, 'Pclass':])"
      ]
    },
    {
      "cell_type": "code",
      "execution_count": null,
      "metadata": {
        "colab": {
          "base_uri": "https://localhost:8080/",
          "height": 206
        },
        "id": "HhT-zxpAXntn",
        "outputId": "de592222-57b3-4443-8a01-fb2ec4468502"
      },
      "outputs": [],
      "source": [
        "# creating buckets for age and fare to optimize the model , and it was observed that due to fare column , the model accuracy decreases , therefore breaking down it into category\n",
        "def create_age_group(df):\n",
        "    age_mapping = {'Baby': 1, 'Child': 2, 'Teenager': 3, 'Student': 4, 'Young Adult': 5, 'Adult': 6, 'Senior': 7}\n",
        "    df['AgeGroup'] = pd.cut(df['Age'],\n",
        "                            bins=[-float('inf'), 5, 14, 18, 25, 30, 60, float('inf')],\n",
        "                            labels=['Baby', 'Child', 'Teenager', 'Student', 'Young Adult', 'Adult', 'Senior'])\n",
        "    df['AgeGroup'] = df['AgeGroup'].map(age_mapping)\n",
        "    df.drop(['Age'], axis=1, inplace=True)\n",
        "\n",
        "    return df\n",
        "create_age_group(df)\n",
        "df.head()"
      ]
    },
    {
      "cell_type": "code",
      "execution_count": null,
      "metadata": {
        "colab": {
          "base_uri": "https://localhost:8080/",
          "height": 424
        },
        "id": "UlDnY94_gINu",
        "outputId": "02b5410b-727e-4f45-e013-5c810e7eeb53"
      },
      "outputs": [],
      "source": [
        "create_age_group(test_df)"
      ]
    },
    {
      "cell_type": "code",
      "execution_count": null,
      "metadata": {
        "colab": {
          "base_uri": "https://localhost:8080/",
          "height": 206
        },
        "id": "7xg-9wWXfasL",
        "outputId": "dfb62cc0-bb64-48bd-fd2b-a3fcb2f3add2"
      },
      "outputs": [],
      "source": [
        "test_df['FareBand'] = pd.qcut(test_df['Fare'], 4, labels = [1, 2, 3, 4])\n",
        "test_df.drop(['Fare'], axis=1, inplace=True)\n",
        "test_df.head()"
      ]
    },
    {
      "cell_type": "code",
      "execution_count": null,
      "metadata": {
        "colab": {
          "base_uri": "https://localhost:8080/",
          "height": 206
        },
        "id": "dBkRsnynY4m8",
        "outputId": "5dde21d9-9837-4205-ca0a-ae5a416af80c"
      },
      "outputs": [],
      "source": [
        "df['FareBand'] = pd.qcut(df['Fare'], 4, labels = [1, 2, 3, 4])\n",
        "df.drop(['Fare'], axis=1, inplace=True)\n",
        "df.head()"
      ]
    },
    {
      "cell_type": "code",
      "execution_count": null,
      "metadata": {
        "colab": {
          "base_uri": "https://localhost:8080/"
        },
        "id": "PTvrZ-HHZDTF",
        "outputId": "582b565e-b16d-4813-f431-91a2b3271c96"
      },
      "outputs": [],
      "source": [
        "# to observe training data has only int values\n",
        "# if not converting it into int using Categorial \n",
        "df.info()"
      ]
    },
    {
      "cell_type": "code",
      "execution_count": 29,
      "metadata": {
        "id": "siTARkTlZc1v"
      },
      "outputs": [],
      "source": [
        "df['AgeGroup'] = pd.Categorical(df['AgeGroup']).codes\n",
        "df['FareBand'] = pd.Categorical(df['FareBand']).codes"
      ]
    },
    {
      "cell_type": "code",
      "execution_count": 30,
      "metadata": {
        "id": "OFynyvD5nefV"
      },
      "outputs": [],
      "source": [
        "test_df['AgeGroup'] = pd.Categorical(test_df['AgeGroup']).codes\n",
        "test_df['FareBand'] = pd.Categorical(test_df['FareBand']).codes"
      ]
    },
    {
      "cell_type": "code",
      "execution_count": null,
      "metadata": {
        "colab": {
          "base_uri": "https://localhost:8080/",
          "height": 320
        },
        "id": "EzwaEvjqdRtV",
        "outputId": "4235023d-3860-4e1d-eff0-0919e88f82f6"
      },
      "outputs": [],
      "source": [
        "test_df.describe()"
      ]
    },
    {
      "cell_type": "code",
      "execution_count": 31,
      "metadata": {
        "id": "4FE25mS-dUcU"
      },
      "outputs": [],
      "source": [
        "from sklearn.model_selection import train_test_split"
      ]
    },
    {
      "cell_type": "code",
      "execution_count": 32,
      "metadata": {
        "id": "PNpvQb2BdnkB"
      },
      "outputs": [],
      "source": [
        "train, test = train_test_split(df, test_size=0.2, random_state=67, stratify=df.loc[:, 'Survived'])"
      ]
    },
    {
      "cell_type": "code",
      "execution_count": 33,
      "metadata": {
        "id": "-XTeG94przIv"
      },
      "outputs": [],
      "source": [
        "from sklearn.tree import DecisionTreeClassifier\n",
        "from sklearn.model_selection import GridSearchCV\n",
        "from sklearn.model_selection import train_test_split\n",
        "\n",
        "from sklearn.metrics import accuracy_score, classification_report\n",
        "from sklearn.ensemble import RandomForestClassifier\n",
        "import xgboost as xgb"
      ]
    },
    {
      "cell_type": "code",
      "execution_count": 34,
      "metadata": {
        "colab": {
          "base_uri": "https://localhost:8080/"
        },
        "id": "g5seOFcDSZp7",
        "outputId": "8cdcc26e-e982-40d3-a26e-e4f49c434215"
      },
      "outputs": [
        {
          "name": "stdout",
          "output_type": "stream",
          "text": [
            "Decision Tree Best MSE: 0.8251748251748252\n"
          ]
        }
      ],
      "source": [
        "dt = DecisionTreeClassifier(random_state=67)\n",
        "dt_params = {\n",
        "    'max_depth': [5, 10, 15, 20],\n",
        "    'min_samples_split': [2, 10, 20],\n",
        "    'min_samples_leaf': [1, 5, 10],\n",
        "    'criterion': ['gini', 'entropy']\n",
        "}\n",
        "\n",
        "dt_grid = GridSearchCV(dt, dt_params, cv=5, scoring='accuracy', n_jobs=-1)\n",
        "dt_grid.fit(train.loc[:, 'Pclass':],train.loc[:, 'Survived'])\n",
        "\n",
        "best_dt = dt_grid.best_estimator_\n",
        "dt_pred = best_dt.predict((test.loc[:, 'Pclass':]))\n",
        "dt_mse = accuracy_score(test.loc[:, 'Survived'], dt_pred)\n",
        "print(f\"Decision Tree Best MSE: {dt_mse}\")"
      ]
    },
    {
      "cell_type": "code",
      "execution_count": null,
      "metadata": {
        "colab": {
          "base_uri": "https://localhost:8080/",
          "height": 80
        },
        "id": "8hxoIDV29jN9",
        "outputId": "951ffc72-5e61-4aa8-a11f-7cddec61b3cf"
      },
      "outputs": [],
      "source": [
        "best_dt"
      ]
    },
    {
      "cell_type": "code",
      "execution_count": null,
      "metadata": {
        "id": "zmRRlgrwSfN4"
      },
      "outputs": [],
      "source": [
        "\n",
        "rf = RandomForestClassifier(random_state=67)\n",
        "rf_params = {\n",
        "    'n_estimators': [290,300,320],\n",
        "    'max_depth': [16,17,18,19],\n",
        "    'min_samples_split': [8,9, 10,11,12],\n",
        "    'min_samples_leaf': [1,2,3,4],\n",
        "    'criterion' : ['gini','entropy']\n",
        "}\n",
        "rf_grid = GridSearchCV(rf, rf_params, cv=5, scoring='accuracy', n_jobs=-1)\n",
        "rf_grid.fit(train.loc[:, 'Pclass':],train.loc[:, 'Survived'])\n",
        "\n",
        "best_rf = rf_grid.best_estimator_\n",
        "rf_pred = best_rf.predict((test.loc[:, 'Pclass':]))\n",
        "rf_mse = accuracy_score(test.loc[:, 'Survived'], rf_pred)\n",
        "print(f\"Random Forest Best MSE: {rf_mse}\")"
      ]
    },
    {
      "cell_type": "code",
      "execution_count": null,
      "metadata": {
        "colab": {
          "base_uri": "https://localhost:8080/"
        },
        "id": "5yDJ3dmhSh0k",
        "outputId": "3db35cea-2118-4239-bf71-62980ea59eae"
      },
      "outputs": [],
      "source": [
        "\n",
        "xgboost = xgb.XGBClassifier(objective='binary:logistic', random_state=67, eval_metric='logloss')\n",
        "xgboost_params = {\n",
        "    'n_estimators': [100, 200, 300],\n",
        "    'max_depth': [3,4,5,6,7, 10, 15],\n",
        "    'learning_rate': [0.01, 0.1, 0.3],\n",
        "    'subsample': [ 0.8, 1],\n",
        "}\n",
        "\n",
        "xgb_grid = GridSearchCV(xgboost, xgboost_params, cv=5, scoring='accuracy', n_jobs=-1)\n",
        "xgb_grid.fit(train.loc[:, 'Pclass':],train.loc[:, 'Survived'])\n",
        "\n",
        "best_xgb = xgb_grid.best_estimator_\n",
        "xgb_pred = best_xgb.predict((test.loc[:, 'Pclass':]))\n",
        "xgb_mse = accuracy_score(test.loc[:, 'Survived'], xgb_pred)\n",
        "print(f\"XGBoost Best MSE: {xgb_mse}\")\n"
      ]
    },
    {
      "cell_type": "code",
      "execution_count": 37,
      "metadata": {
        "colab": {
          "base_uri": "https://localhost:8080/"
        },
        "id": "NMTV-2t1bdie",
        "outputId": "514c1603-3349-40ef-b7ad-8d109068d932"
      },
      "outputs": [
        {
          "name": "stdout",
          "output_type": "stream",
          "text": [
            "DecisionTree Train  Best Accuracy: 0.8260105448154658\n",
            "DecisionTree Test  Best Accuracy: 0.8251748251748252\n",
            "Rf Train  Best Accuracy: 0.8629173989455184\n",
            "Rf Test  Best Accuracy: 0.8181818181818182\n",
            "XGBoost Train  Best Accuracy: 0.8418277680140598\n",
            "XGBoost Test  Best Accuracy: 0.8251748251748252\n"
          ]
        }
      ],
      "source": [
        "DecisionTree_accuracy = accuracy_score(train.loc[:, 'Survived'], best_dt.predict(train.loc[:, 'Pclass':]))\n",
        "print(f\"DecisionTree Train  Best Accuracy: {DecisionTree_accuracy}\")\n",
        "DecisionTree_accuracy = accuracy_score(test.loc[:, 'Survived'], dt_pred)\n",
        "print(f\"DecisionTree Test  Best Accuracy: {DecisionTree_accuracy}\")\n",
        "\n",
        "rf_accuracy = accuracy_score(train.loc[:, 'Survived'], best_rf.predict(train.loc[:, 'Pclass':]))\n",
        "print(f\"Rf Train  Best Accuracy: {rf_accuracy}\")\n",
        "rf_accuracy = accuracy_score(test.loc[:, 'Survived'], rf_pred)\n",
        "print(f\"Rf Test  Best Accuracy: {rf_accuracy}\")\n",
        "\n",
        "xgb_accuracy = accuracy_score(train.loc[:, 'Survived'], best_xgb.predict(train.loc[:, 'Pclass':]))\n",
        "print(f\"XGBoost Train  Best Accuracy: {xgb_accuracy}\")\n",
        "xgb_accuracy = accuracy_score(test.loc[:, 'Survived'], xgb_pred)\n",
        "print(f\"XGBoost Test  Best Accuracy: {xgb_accuracy}\")"
      ]
    },
    {
      "cell_type": "code",
      "execution_count": 40,
      "metadata": {
        "colab": {
          "base_uri": "https://localhost:8080/"
        },
        "id": "jeAM9XALjle4",
        "outputId": "f9005372-865f-490b-db2e-7889700c72e7"
      },
      "outputs": [
        {
          "name": "stdout",
          "output_type": "stream",
          "text": [
            "{'bootstrap': True, 'ccp_alpha': 0.0, 'class_weight': None, 'criterion': 'gini', 'max_depth': 18, 'max_features': 'sqrt', 'max_leaf_nodes': None, 'max_samples': None, 'min_impurity_decrease': 0.0, 'min_samples_leaf': 2, 'min_samples_split': 10, 'min_weight_fraction_leaf': 0.0, 'monotonic_cst': None, 'n_estimators': 300, 'n_jobs': None, 'oob_score': False, 'random_state': 67, 'verbose': 0, 'warm_start': False}\n"
          ]
        }
      ],
      "source": [
        "# since Xg boost causes overfitting and tried in competition also therefore , using RandomForest since it test better for trainig data also\n",
        "# Rf Train  Best Accuracy: 0.8629173989455184\n",
        "# Rf Test  Best Accuracy: 0.8181818181818182\n",
        "print(best_rf.get_params())"
      ]
    },
    {
      "cell_type": "code",
      "execution_count": 39,
      "metadata": {
        "id": "ajrlKqUtCx-S"
      },
      "outputs": [],
      "source": [
        "# testing the model with test data\n",
        "test_df\n",
        "label_add = test_df['PassengerId']\n",
        "poly_pred_test = best_rf.predict((test_df.loc[:, 'Pclass':]))\n",
        "result = np.column_stack((label_add, poly_pred_test))\n",
        "result\n",
        "result = pd.DataFrame(result, columns=['PassengerId', 'Survived'])\n",
        "result['PassengerId'] = result['PassengerId'].astype(\"int\")\n",
        "result = result.reset_index(drop=True)\n",
        "result.to_csv('output.csv', index=False)"
      ]
    }
  ],
  "metadata": {
    "colab": {
      "provenance": []
    },
    "kernelspec": {
      "display_name": "Python 3",
      "name": "python3"
    },
    "language_info": {
      "name": "python"
    }
  },
  "nbformat": 4,
  "nbformat_minor": 0
}
